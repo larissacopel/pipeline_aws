{
 "cells": [
  {
   "cell_type": "markdown",
   "id": "sorted-baking",
   "metadata": {},
   "source": [
    "## Modelo Machine Learning: Classificação"
   ]
  },
  {
   "cell_type": "markdown",
   "id": "satisfied-kruger",
   "metadata": {},
   "source": [
    "### Instalação das bibliotecas necessárias"
   ]
  },
  {
   "cell_type": "code",
   "execution_count": 1,
   "id": "varied-bosnia",
   "metadata": {},
   "outputs": [
    {
     "name": "stdout",
     "output_type": "stream",
     "text": [
      "Note: you may need to restart the kernel to use updated packages.\n"
     ]
    }
   ],
   "source": [
    "pip install boto3 -q"
   ]
  },
  {
   "cell_type": "code",
   "execution_count": 2,
   "id": "legal-sheriff",
   "metadata": {
    "scrolled": true
   },
   "outputs": [
    {
     "name": "stdout",
     "output_type": "stream",
     "text": [
      "Note: you may need to restart the kernel to use updated packages.\n"
     ]
    }
   ],
   "source": [
    "pip install sklearn -q"
   ]
  },
  {
   "cell_type": "markdown",
   "id": "broadband-tobago",
   "metadata": {},
   "source": [
    "### Importação das bibliotecas necessárias"
   ]
  },
  {
   "cell_type": "code",
   "execution_count": 3,
   "id": "pleasant-document",
   "metadata": {},
   "outputs": [],
   "source": [
    "import boto3\n",
    "import pandas as pd\n",
    "import numpy as np\n",
    "from sklearn.model_selection import train_test_split\n",
    "from sklearn.ensemble import RandomForestClassifier\n",
    "from sklearn.metrics import accuracy_score\n",
    "from sklearn.metrics import confusion_matrix\n",
    "import seaborn as sns\n",
    "import matplotlib.pyplot as plt"
   ]
  },
  {
   "cell_type": "markdown",
   "id": "anticipated-playing",
   "metadata": {},
   "source": [
    "### Conexão com o S3"
   ]
  },
  {
   "cell_type": "code",
   "execution_count": 4,
   "id": "going-madrid",
   "metadata": {},
   "outputs": [],
   "source": [
    "# Credenciais da conta a ser utilizada\n",
    "AWS_S3_CREDS = {\n",
    "    \"aws_access_key_id\":\"*\", # os.getenv(\"AWS_ACCESS_KEY\")\n",
    "    \"aws_secret_access_key\":\"*\" # os.getenv(\"AWS_SECRET_KEY\")\n",
    "}"
   ]
  },
  {
   "cell_type": "code",
   "execution_count": 5,
   "id": "healthy-framing",
   "metadata": {},
   "outputs": [],
   "source": [
    "# Instanciação de um objeto cliente do S3\n",
    "s3 = boto3.client('s3', region_name='us-east-1', **AWS_S3_CREDS)"
   ]
  },
  {
   "cell_type": "markdown",
   "id": "utility-pickup",
   "metadata": {},
   "source": [
    "### Recuperação dos dados"
   ]
  },
  {
   "cell_type": "code",
   "execution_count": 6,
   "id": "latter-immune",
   "metadata": {},
   "outputs": [],
   "source": [
    "# Nome do bucket em que os dados estão armazenados\n",
    "bucket_name='cleaned-larissa'"
   ]
  },
  {
   "cell_type": "code",
   "execution_count": 7,
   "id": "prime-finland",
   "metadata": {},
   "outputs": [],
   "source": [
    "result = s3.list_objects(Bucket = bucket_name)"
   ]
  },
  {
   "cell_type": "code",
   "execution_count": 8,
   "id": "intellectual-priority",
   "metadata": {},
   "outputs": [],
   "source": [
    "# Array que armazenará o conteúdo do bucket\n",
    "conteudo = []\n",
    "for o in result.get('Contents'):\n",
    "    data = s3.get_object(Bucket=bucket_name, Key=o.get('Key'))\n",
    "    contents = data['Body'].read().decode()\n",
    "    for linha in contents.split('\\n'):\n",
    "        conteudo.append(linha.split(','))"
   ]
  },
  {
   "cell_type": "code",
   "execution_count": 9,
   "id": "naughty-traveler",
   "metadata": {},
   "outputs": [],
   "source": [
    "# Header do arquivo\n",
    "header = [\"id\",\"name\",\"abv\",\"ibu\",\"target_fg\",\"target_og\",\"ebc\",\"srm\",\"ph\"]"
   ]
  },
  {
   "cell_type": "code",
   "execution_count": 10,
   "id": "wound-north",
   "metadata": {},
   "outputs": [],
   "source": [
    "# Transforma a lista em um dataframe pandas\n",
    "df = pd.DataFrame(conteudo, columns=header)"
   ]
  },
  {
   "cell_type": "markdown",
   "id": "convenient-visibility",
   "metadata": {},
   "source": [
    "### Tratamento dos dados"
   ]
  },
  {
   "cell_type": "code",
   "execution_count": 11,
   "id": "progressive-practitioner",
   "metadata": {},
   "outputs": [],
   "source": [
    "# Conversões do tipo de dados\n",
    "df['id'] = pd.to_numeric(df[\"id\"])\n",
    "df['abv'] = pd.to_numeric(df[\"abv\"])\n",
    "df['target_fg'] = pd.to_numeric(df[\"target_fg\"])\n",
    "df['target_og'] = pd.to_numeric(df[\"target_og\"])\n",
    "df['ebc'] = pd.to_numeric(df[\"ebc\"])\n",
    "df['srm'] = pd.to_numeric(df[\"srm\"])\n",
    "df['ph'] = pd.to_numeric(df[\"ph\"])"
   ]
  },
  {
   "cell_type": "code",
   "execution_count": 12,
   "id": "painted-april",
   "metadata": {},
   "outputs": [],
   "source": [
    "# Exclusão de registros que possuam colunas sem preenchimento\n",
    "df = df.dropna()"
   ]
  },
  {
   "cell_type": "markdown",
   "id": "designed-louisiana",
   "metadata": {},
   "source": [
    "### Determinação de features e target"
   ]
  },
  {
   "cell_type": "code",
   "execution_count": 14,
   "id": "promotional-benefit",
   "metadata": {},
   "outputs": [],
   "source": [
    "# Features do modelo\n",
    "features_nome = ['abv', 'target_fg', 'target_og', 'ebc', 'srm', 'ph']\n",
    "# Target do modelo\n",
    "target_nome = ['ibu']"
   ]
  },
  {
   "cell_type": "markdown",
   "id": "electrical-sentence",
   "metadata": {},
   "source": [
    "### Separação de treino e teste"
   ]
  },
  {
   "cell_type": "code",
   "execution_count": 15,
   "id": "cathedral-andorra",
   "metadata": {},
   "outputs": [],
   "source": [
    "# Separa os dados para treino e teste do modelo\n",
    "X_train, X_test, y_train, y_test = train_test_split(df[features_nome]\\\n",
    "                                                    , df[target_nome]\\\n",
    "                                                    , test_size=0.5\\\n",
    "                                                    , stratify=df[target_nome]\\\n",
    "                                                    , random_state=123456)"
   ]
  },
  {
   "cell_type": "markdown",
   "id": "previous-article",
   "metadata": {},
   "source": [
    "### Treino do modelo"
   ]
  },
  {
   "cell_type": "code",
   "execution_count": 16,
   "id": "broken-watson",
   "metadata": {
    "scrolled": true
   },
   "outputs": [
    {
     "data": {
      "text/plain": [
       "RandomForestClassifier(oob_score=True, random_state=123456)"
      ]
     },
     "execution_count": 16,
     "metadata": {},
     "output_type": "execute_result"
    }
   ],
   "source": [
    "forest = RandomForestClassifier(n_estimators=100, oob_score=True, random_state=123456)\n",
    "forest.fit(X_train, y_train.values.ravel())"
   ]
  },
  {
   "cell_type": "markdown",
   "id": "herbal-spanish",
   "metadata": {},
   "source": [
    "### Execução do modelo"
   ]
  },
  {
   "cell_type": "code",
   "execution_count": 17,
   "id": "compact-diploma",
   "metadata": {},
   "outputs": [],
   "source": [
    "predicted = forest.predict(X_test)"
   ]
  },
  {
   "cell_type": "markdown",
   "id": "baking-company",
   "metadata": {},
   "source": [
    "### Avaliação do modelo"
   ]
  },
  {
   "cell_type": "code",
   "execution_count": 18,
   "id": "boolean-facial",
   "metadata": {},
   "outputs": [
    {
     "name": "stdout",
     "output_type": "stream",
     "text": [
      "Out-of-bag score estimate: 1.0\n",
      "Mean accuracy score: 1.0\n"
     ]
    }
   ],
   "source": [
    "accuracy = accuracy_score(y_test, predicted)\n",
    "print(f'Out-of-bag score estimate: {forest.oob_score_:.3}')\n",
    "print(f'Mean accuracy score: {accuracy:.3}')"
   ]
  },
  {
   "cell_type": "code",
   "execution_count": 19,
   "id": "rolled-flexibility",
   "metadata": {},
   "outputs": [],
   "source": [
    "cm = pd.DataFrame(confusion_matrix(y_test, predicted)\\\n",
    "                  , columns=y_test['ibu'].unique().tolist()\n",
    "                  , index=y_test['ibu'].unique().tolist())"
   ]
  },
  {
   "cell_type": "code",
   "execution_count": 20,
   "id": "capable-roman",
   "metadata": {},
   "outputs": [
    {
     "data": {
      "image/png": "[encoded data removed]",
      "text/plain": [
       "<Figure size 1008x792 with 2 Axes>"
      ]
     },
     "metadata": {
      "needs_background": "light"
     },
     "output_type": "display_data"
    }
   ],
   "source": [
    "fig, ax = plt.subplots(figsize=(14, 11))\n",
    "sns.heatmap(cm, annot=True,cmap='Blues')\n",
    "plt.show()"
   ]
  }
 ],
 "metadata": {
  "kernelspec": {
   "display_name": "Python 3",
   "language": "python",
   "name": "python3"
  },
  "language_info": {
   "codemirror_mode": {
    "name": "ipython",
    "version": 3
   },
   "file_extension": ".py",
   "mimetype": "text/x-python",
   "name": "python",
   "nbconvert_exporter": "python",
   "pygments_lexer": "ipython3",
   "version": "3.8.5"
  }
 },
 "nbformat": 4,
 "nbformat_minor": 5
}
